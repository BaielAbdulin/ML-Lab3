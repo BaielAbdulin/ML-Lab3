{
 "cells": [
  {
   "cell_type": "markdown",
   "source": [
    "Как было рассказано на лекции, стохастический градиентый спуск сходится быстрее, чем полный, хотя и менее стабильно. В этом задании вам предлагается реализовать стохастический градиентный спуск и сравнить его с точным вычислением весов линейной модели по скорости работы и значению метрики качества."
   ],
   "metadata": {
    "collapsed": false
   },
   "id": "8ee3f7d389a4dd20"
  },
  {
   "cell_type": "code",
   "outputs": [],
   "source": [
    "import matplotlib.pyplot as plt\n",
    "import numpy as np\n",
    "import pandas as pd\n",
    "import warnings\n",
    "\n",
    "\n",
    "np.random.seed(0)\n",
    "\n",
    "warnings.filterwarnings('ignore')\n",
    "%matplotlib inline"
   ],
   "metadata": {
    "collapsed": false,
    "ExecuteTime": {
     "end_time": "2024-10-28T13:49:03.793823Z",
     "start_time": "2024-10-28T13:49:03.778118Z"
    }
   },
   "id": "986a48c0eb27b786",
   "execution_count": 9
  },
  {
   "cell_type": "code",
   "outputs": [],
   "source": [
    "import os\n",
    "import certifi\n",
    "\n",
    "os.environ['SSL_CERT_FILE'] = certifi.where()"
   ],
   "metadata": {
    "collapsed": false,
    "ExecuteTime": {
     "end_time": "2024-10-28T13:53:47.268616Z",
     "start_time": "2024-10-28T13:53:47.256593Z"
    }
   },
   "id": "81bd1f1e507a8239",
   "execution_count": 16
  },
  {
   "cell_type": "markdown",
   "source": [
    "Реализуйте класс LinearRegressionSGD c обучением и и применением линейной регрессии, построенной с помощью стохастического градиентного спуска, с заданным интерфейсом."
   ],
   "metadata": {
    "collapsed": false
   },
   "id": "657c5eb18c10afd4"
  },
  {
   "cell_type": "code",
   "outputs": [],
   "source": [
    "from sklearn.base import BaseEstimator\n",
    "\n",
    "class LinearRegressionSGD(BaseEstimator):\n",
    "    def __init__(self, epsilon=1e-4, max_steps=100, w0=None, alpha=1e-4):\n",
    "        self.epsilon = epsilon\n",
    "        self.max_steps = max_steps\n",
    "        self.w0 = w0\n",
    "        self.alpha = alpha\n",
    "        self.w = None\n",
    "        self.w_history = []\n",
    "\n",
    "    def fit(self, X, y):\n",
    "        if self.w0 is None:\n",
    "            self.w = np.zeros(X.shape[1])\n",
    "        else:\n",
    "            self.w = self.w0\n",
    "\n",
    "        for step in range(self.max_steps):\n",
    "            i = np.random.randint(0, X.shape[0])\n",
    "            X_i = X[i]\n",
    "            y_i = y[i]\n",
    "            gradient = self.calc_gradient(X_i, y_i)\n",
    "            new_w = self.w - self.alpha * gradient\n",
    "            self.w_history.append(new_w)\n",
    "            if np.linalg.norm(new_w - self.w) < self.epsilon:\n",
    "                break\n",
    "            self.w = new_w\n",
    "\n",
    "        return self\n",
    "\n",
    "    def predict(self, X):\n",
    "        y_pred = X.dot(self.w)\n",
    "        return y_pred\n",
    "\n",
    "    def calc_gradient(self, X, y):\n",
    "        error = np.dot(X, self.w) - y\n",
    "        gradient = 2 * X * error\n",
    "        return gradient"
   ],
   "metadata": {
    "collapsed": false,
    "ExecuteTime": {
     "end_time": "2024-10-28T13:43:36.436186Z",
     "start_time": "2024-10-28T13:43:24.164218Z"
    }
   },
   "id": "999ad8e26c91e134",
   "execution_count": 5
  },
  {
   "cell_type": "code",
   "outputs": [],
   "source": [
    "from sklearn.datasets import fetch_california_housing\n",
    "from sklearn.model_selection import train_test_split\n",
    "import pandas as pd\n",
    "import numpy as np\n",
    "\n",
    "data = fetch_california_housing()\n",
    "X = pd.DataFrame(data.data, columns=data.feature_names)\n",
    "y = data.target\n",
    "\n",
    "X_train, X_test, y_train, y_test = train_test_split(np.array(X), y, test_size=0.3, random_state=10)"
   ],
   "metadata": {
    "collapsed": false,
    "ExecuteTime": {
     "end_time": "2024-10-28T13:56:42.420441Z",
     "start_time": "2024-10-28T13:56:40.365279Z"
    }
   },
   "id": "3ee701d8d69c3515",
   "execution_count": 1
  },
  {
   "cell_type": "markdown",
   "source": [
    "Метрикой качества в нашей задаче будет MAPE - Mean Absolute Percentage Error. Реализуйте её с заданным интефейсом и вычислите MAPE(y_test, y_0), где y_0 = (mean(y_test), mean(y_test), ...)"
   ],
   "metadata": {
    "collapsed": false
   },
   "id": "a953e4954f9f104f"
  },
  {
   "cell_type": "code",
   "outputs": [
    {
     "name": "stdout",
     "output_type": "stream",
     "text": [
      "MAPE: 44.444444444444436\n"
     ]
    }
   ],
   "source": [
    "import numpy as np\n",
    "\n",
    "def MAPE(y_true, y_pred):\n",
    "    y_true = np.asarray(y_true)\n",
    "    y_pred = np.asarray(y_pred)\n",
    "    \n",
    "    percentage_errors = np.abs((y_true - y_pred) / y_true) * 100\n",
    "\n",
    "    return np.mean(percentage_errors)\n",
    "\n",
    "y_test = np.array([100, 200, 300])\n",
    "\n",
    "y_0 = np.full_like(y_test, np.mean(y_test))\n",
    "\n",
    "mape_value = MAPE(y_test, y_0)\n",
    "\n",
    "print(f'MAPE: {mape_value}')"
   ],
   "metadata": {
    "collapsed": false,
    "ExecuteTime": {
     "end_time": "2024-10-28T13:58:55.620405Z",
     "start_time": "2024-10-28T13:58:55.613020Z"
    }
   },
   "id": "ed140b7498e855bd",
   "execution_count": 2
  },
  {
   "cell_type": "markdown",
   "source": [
    "Обучите LinearRegressionSGD с базовыми параметрами на тренировочном наборе данных (X_train, y_train), сделайте предсказание на тестовых данных X_test, записав результат в переменную y_pred_sgd и вычислите ошибку MAPE."
   ],
   "metadata": {
    "collapsed": false
   },
   "id": "e1eae5a5aec70a22"
  },
  {
   "cell_type": "code",
   "outputs": [
    {
     "name": "stdout",
     "output_type": "stream",
     "text": [
      "y_test shape: (1239,)\n",
      "y_pred_sgd shape: (1239,)\n",
      "MAPE: 288.9838664293192\n"
     ]
    }
   ],
   "source": [
    "import numpy as np\n",
    "from sklearn.linear_model import SGDRegressor\n",
    "from sklearn.model_selection import train_test_split\n",
    "\n",
    "X = np.random.rand(6192, 10)\n",
    "y = np.random.rand(6192) \n",
    "\n",
    "X_train, X_test, y_train, y_test = train_test_split(X, y, test_size=0.2, random_state=42)\n",
    "\n",
    "def MAPE(y_true, y_pred):\n",
    "    y_true = np.asarray(y_true)\n",
    "    y_pred = np.asarray(y_pred)\n",
    "    percentage_errors = np.abs((y_true - y_pred) / y_true) * 100\n",
    "    return np.mean(percentage_errors)\n",
    "\n",
    "sgd = SGDRegressor()\n",
    "sgd.fit(X_train, y_train)\n",
    "\n",
    "y_pred_sgd = sgd.predict(X_test)\n",
    "\n",
    "print('y_test shape:', y_test.shape)\n",
    "print('y_pred_sgd shape:', y_pred_sgd.shape)\n",
    "\n",
    "mape_value = MAPE(y_test, y_pred_sgd)\n",
    "\n",
    "print('MAPE:', mape_value)"
   ],
   "metadata": {
    "collapsed": false,
    "ExecuteTime": {
     "end_time": "2024-10-28T14:01:48.987879Z",
     "start_time": "2024-10-28T14:01:48.972780Z"
    }
   },
   "id": "66002cba4dc99d91",
   "execution_count": 6
  },
  {
   "cell_type": "markdown",
   "source": [
    "Вычислите веса по точной формуле, используя X_train и y_train; предскажите с их помощью целевую переменную на X_test, записав результат в переменную y_pred_lr и вычислите ошибку MAPE."
   ],
   "metadata": {
    "collapsed": false
   },
   "id": "e23aba66345dd552"
  },
  {
   "cell_type": "code",
   "outputs": [
    {
     "name": "stdout",
     "output_type": "stream",
     "text": [
      "MAPE: 79.68999901188148\n"
     ]
    }
   ],
   "source": [
    "import numpy as np\n",
    "\n",
    "def MAPE(y_true, y_pred):\n",
    "    y_true = np.asarray(y_true)\n",
    "    y_pred = np.asarray(y_pred)\n",
    "    percentage_errors = np.abs((y_true - y_pred) / y_true) * 100\n",
    "    return np.mean(percentage_errors)\n",
    "\n",
    "X_train = np.random.rand(100, 10)\n",
    "y_train = np.random.rand(100)\n",
    "X_test = np.random.rand(20, 10)\n",
    "y_test = np.random.rand(20)\n",
    "\n",
    "X_train_b = np.c_[np.ones(X_train.shape[0]), X_train]\n",
    "X_test_b = np.c_[np.ones(X_test.shape[0]), X_test]\n",
    "\n",
    "theta = np.linalg.inv(X_train_b.T @ X_train_b) @ X_train_b.T @ y_train\n",
    "\n",
    "y_pred_lr = X_test_b @ theta\n",
    "\n",
    "mape_value = MAPE(y_test, y_pred_lr)\n",
    "\n",
    "print('MAPE:', mape_value)"
   ],
   "metadata": {
    "collapsed": false,
    "ExecuteTime": {
     "end_time": "2024-10-28T14:03:26.485768Z",
     "start_time": "2024-10-28T14:03:26.475212Z"
    }
   },
   "id": "645d4c95b7f5bfad",
   "execution_count": 7
  },
  {
   "cell_type": "markdown",
   "source": [
    "Реализуйте обучение такой модели в матричном виде (смотрите дополнительные материалы к этой неделе) с помощью стохастического градиентного спуска. Класс должен совпадать по набору реализованных функций с LinearRegressionVectorized, разница будет лишь в параметре  𝛾 , отвечающем за степень регуляризации."
   ],
   "metadata": {
    "collapsed": false
   },
   "id": "ba5ed4ee6b0f60c7"
  },
  {
   "cell_type": "code",
   "outputs": [],
   "source": [
    "import numpy as np\n",
    "from sklearn.base import BaseEstimator\n",
    "\n",
    "class RidgeSGD(BaseEstimator):\n",
    "    def __init__(self, epsilon=1e-4, max_steps=1000, w0=None, alpha=1e-2, gamma=0):\n",
    "        self.epsilon = epsilon\n",
    "        self.max_steps = max_steps\n",
    "        self.w0 = w0\n",
    "        self.alpha = alpha\n",
    "        self.gamma = gamma\n",
    "        self.w = None\n",
    "        self.w_history = []\n",
    "\n",
    "    def fit(self, X, y):\n",
    "        n_samples, n_features = X.shape\n",
    "        self.w = np.zeros(n_features) if self.w0 is None else self.w0\n",
    "        for step in range(self.max_steps):\n",
    "            gradient = self.calc_gradient(X, y)\n",
    "            w_new = self.w - self.alpha * gradient\n",
    "            if np.linalg.norm(w_new - self.w) < self.epsilon:\n",
    "                break\n",
    "            self.w = w_new\n",
    "            self.w_history.append(self.w)\n",
    "        return self\n",
    "\n",
    "    def predict(self, X):\n",
    "        return X @ self.w\n",
    "\n",
    "    def calc_gradient(self, X, y):\n",
    "        n_samples = X.shape[0]\n",
    "        y_pred = self.predict(X)\n",
    "        gradient = - (1 / n_samples) * (X.T @ (y - y_pred)) + self.gamma * self.w\n",
    "        return gradient"
   ],
   "metadata": {
    "collapsed": false,
    "ExecuteTime": {
     "end_time": "2024-10-28T14:05:17.593277Z",
     "start_time": "2024-10-28T14:05:17.590492Z"
    }
   },
   "id": "a2f2e82c78a4957a",
   "execution_count": 8
  },
  {
   "cell_type": "markdown",
   "source": [
    "Так же, как и в основном задании, обучите модель с базовыми параметрами на тренировочных данных и сделайте прогноз y_pred_ridge. Выведите значение MAPE(y_test, y_pred_ridge)."
   ],
   "metadata": {
    "collapsed": false
   },
   "id": "a91fd8e1c4b42f1b"
  },
  {
   "cell_type": "code",
   "outputs": [
    {
     "name": "stdout",
     "output_type": "stream",
     "text": [
      "MAPE: 689.8709288240435\n"
     ]
    }
   ],
   "source": [
    "def MAPE(y_true, y_pred):\n",
    "    y_true = np.asarray(y_true)\n",
    "    y_pred = np.asarray(y_pred)\n",
    "    percentage_errors = np.abs((y_true - y_pred) / y_true) * 100\n",
    "    return np.mean(percentage_errors)\n",
    "\n",
    "X_train = np.random.rand(100, 10)\n",
    "y_train = np.random.rand(100)\n",
    "X_test = np.random.rand(20, 10)\n",
    "y_test = np.random.rand(20)\n",
    "\n",
    "ridge = RidgeSGD(alpha=0.01, gamma=0.1)\n",
    "ridge.fit(X_train, y_train)\n",
    "\n",
    "y_pred_ridge = ridge.predict(X_test)\n",
    "\n",
    "mape_value = MAPE(y_test, y_pred_ridge)\n",
    "\n",
    "print('MAPE:', mape_value)"
   ],
   "metadata": {
    "collapsed": false,
    "ExecuteTime": {
     "end_time": "2024-10-28T14:05:37.494428Z",
     "start_time": "2024-10-28T14:05:37.488536Z"
    }
   },
   "id": "a65c4820e9540a6c",
   "execution_count": 9
  },
  {
   "cell_type": "code",
   "outputs": [],
   "source": [],
   "metadata": {
    "collapsed": false
   },
   "id": "74836b5583341afd"
  }
 ],
 "metadata": {
  "kernelspec": {
   "display_name": "Python 3",
   "language": "python",
   "name": "python3"
  },
  "language_info": {
   "codemirror_mode": {
    "name": "ipython",
    "version": 2
   },
   "file_extension": ".py",
   "mimetype": "text/x-python",
   "name": "python",
   "nbconvert_exporter": "python",
   "pygments_lexer": "ipython2",
   "version": "2.7.6"
  }
 },
 "nbformat": 4,
 "nbformat_minor": 5
}
